{
 "cells": [
  {
   "cell_type": "code",
   "execution_count": 1,
   "id": "03e10822",
   "metadata": {},
   "outputs": [],
   "source": [
    "import logging\n",
    "from dotenv import load_dotenv\n",
    "import os\n",
    "\n",
    "logging.basicConfig(level=logging.INFO, format=\"%(asctime)s %(levelname)s %(message)s\")"
   ]
  },
  {
   "cell_type": "code",
   "execution_count": 2,
   "id": "676670ac",
   "metadata": {},
   "outputs": [
    {
     "data": {
      "text/plain": [
       "True"
      ]
     },
     "execution_count": 2,
     "metadata": {},
     "output_type": "execute_result"
    }
   ],
   "source": [
    "load_dotenv()"
   ]
  },
  {
   "cell_type": "code",
   "execution_count": 3,
   "id": "e8d685e5",
   "metadata": {},
   "outputs": [],
   "source": [
    "GEMINI_API_KEYS = os.getenv(\"GEMINI_API_KEYS\")\n",
    "if GEMINI_API_KEYS:\n",
    "    api_keys = [k.strip() for k in GEMINI_API_KEYS.split(\",\")]\n",
    "else:\n",
    "    api_keys = []"
   ]
  },
  {
   "cell_type": "code",
   "execution_count": 7,
   "id": "8f05b94d",
   "metadata": {},
   "outputs": [
    {
     "name": "stdout",
     "output_type": "stream",
     "text": [
      "Runtime of generate_similar_user_agents: 0.0000 seconds\n",
      "Runtime of generate_headers_list: 0.0000 seconds\n",
      "Runtime of __init__: 0.0001 seconds\n",
      "/Users/magewade/Desktop/autoparts-recognition/.venv/lib/python3.11/site-packages/keras/src/applications/mobilenet_v3.py:452: UserWarning: `input_shape` is undefined or non-square, or `rows` is not 224. Weights for input shape (224, 224) will be loaded as the default.\n",
      "  return MobileNetV3(\n",
      "/Users/magewade/Desktop/autoparts-recognition/.venv/lib/python3.11/site-packages/keras/src/saving/saving_lib.py:797: UserWarning: Skipping variable loading for optimizer 'adamw', because it has 2 variables whereas the saved optimizer has 14 variables. \n",
      "  saveable.load_own_variables(weights_store.get(inner_path))\n",
      "Runtime of generate_similar_user_agents: 0.0000 seconds\n",
      "Runtime of generate_headers_list: 0.0000 seconds\n",
      "Runtime of __init__: 0.0001 seconds\n",
      "Runtime of __init__: 0.3351 seconds\n",
      "2025-08-13 16:31:42,290 - INFO - Starting encoding process with model: gemini\n",
      "2025-08-13 16:31:42,290 - INFO - Starting link collection from https://www.goofish.com/search?q=%E5%8F%91%E5%8A%A8%E6%9C%BA%E7%94%B5%E8%84%91&spm=a21ybx.search.searchInput.0\n",
      "Попап не найден или уже закрыт: Message: \n",
      "Stacktrace:\n",
      "0   chromedriver                        0x00000001027ff274 cxxbridge1$str$ptr + 2741972\n",
      "1   chromedriver                        0x00000001027f71e4 cxxbridge1$str$ptr + 2709060\n",
      "2   chromedriver                        0x00000001023414fc cxxbridge1$string$len + 90520\n",
      "3   chromedriver                        0x0000000102388a14 cxxbridge1$string$len + 382640\n",
      "4   chromedriver                        0x00000001023c9db8 cxxbridge1$string$len + 649812\n",
      "5   chromedriver                        0x000000010237cd30 cxxbridge1$string$len + 334284\n",
      "6   chromedriver                        0x00000001027c2674 cxxbridge1$str$ptr + 2493140\n",
      "7   chromedriver                        0x00000001027c58a8 cxxbridge1$str$ptr + 2505992\n",
      "8   chromedriver                        0x00000001027a34ac cxxbridge1$str$ptr + 2365708\n",
      "9   chromedriver                        0x00000001027c6164 cxxbridge1$str$ptr + 2508228\n",
      "10  chromedriver                        0x00000001027945a4 cxxbridge1$str$ptr + 2304516\n",
      "11  chromedriver                        0x00000001027e5c80 cxxbridge1$str$ptr + 2638048\n",
      "12  chromedriver                        0x00000001027e5e0c cxxbridge1$str$ptr + 2638444\n",
      "13  chromedriver                        0x00000001027f6e30 cxxbridge1$str$ptr + 2708112\n",
      "14  libsystem_pthread.dylib             0x000000018d6f6c0c _pthread_start + 136\n",
      "15  libsystem_pthread.dylib             0x000000018d6f1b80 thread_start + 8\n",
      "\n",
      "Поиск выполнен\n",
      "Runtime of collect_product_links_selenium: 72.7294 seconds\n",
      "2025-08-13 16:32:55,020 - INFO - Collected 75 unique links\n",
      "2025-08-13 16:32:57,568 - INFO - Processing 1/75 link: https://www.goofish.com/item?id=868998526023&categoryId=126860741\n",
      "2025-08-13 16:32:57,569 - INFO - Processing link: https://www.goofish.com/item?id=868998526023&categoryId=126860741\n",
      "Runtime of parse_big_images_from_slider_selenium: 9.8761 seconds\n",
      "2025-08-13 16:33:07,445 - INFO - Checking https://www.goofish.com/item?id=868998526023&categoryId=126860741 for images\n",
      "2025-08-13 16:33:07,445 - INFO - Found 2 unique image links\n",
      "Runtime of build_dataset: 1.6967 seconds\n",
      "Runtime of __call__: 1.6967 seconds\n",
      "\u001b[1m1/1\u001b[0m \u001b[32m━━━━━━━━━━━━━━━━━━━━\u001b[0m\u001b[37m\u001b[0m \u001b[1m0s\u001b[0m 354ms/step\n",
      "Runtime of do_inference_return_probs: 2.0528 seconds\n",
      "2025-08-13 16:33:09,498 - INFO - Predicting on image https://img.alicdn.com/bao/uploaded/i4/O1CN014gqjfw2HQT2m3jyJF_!!4611686018427382521-0-fleamarket.jpg_790x10000Q90.jpg_.webp with score 0.5344449877738953\n",
      "2025-08-13 16:33:40,989 - INFO - Main model response: <START> Opel/Fiat/Alfa Romeo | 01618116 | 01618116 | False <END>\n",
      "2025-08-13 16:33:40,989 - INFO - Attempt 1: Extracted number: Opel/Fiat/Alfa Romeo | 01618116 | 01618116 | False\n",
      "^C\n",
      "Traceback (most recent call last):\n",
      "  File \"/Users/magewade/Desktop/autoparts-recognition/main_goofish.py\", line 320, in <module>\n",
      "    encoding_result = reduce(\n",
      "                      ^^^^^^^\n",
      "  File \"/Users/magewade/Desktop/autoparts-recognition/main_goofish.py\", line 281, in reduce\n",
      "    encoded_data = encode(page_link, picker, model, processor)\n",
      "                   ^^^^^^^^^^^^^^^^^^^^^^^^^^^^^^^^^^^^^^^^^^^\n",
      "  File \"/Users/magewade/Desktop/autoparts-recognition/main_goofish.py\", line 184, in encode\n",
      "    detail_number = str(model(target_image_link))\n",
      "                        ^^^^^^^^^^^^^^^^^^^^^^^^\n",
      "  File \"/Users/magewade/Desktop/autoparts-recognition/gemini_model.py\", line 295, in __call__\n",
      "    validation_result = self.validate_number(extracted_number, img_data)\n",
      "                        ^^^^^^^^^^^^^^^^^^^^^^^^^^^^^^^^^^^^^^^^^^^^^^^^\n",
      "  File \"/Users/magewade/Desktop/autoparts-recognition/gemini_model.py\", line 259, in validate_number\n",
      "    response = self.validator_model.generate_content(prompt_parts)\n",
      "               ^^^^^^^^^^^^^^^^^^^^^^^^^^^^^^^^^^^^^^^^^^^^^^^^^^^\n",
      "  File \"/Users/magewade/Desktop/autoparts-recognition/.venv/lib/python3.11/site-packages/google/generativeai/generative_models.py\", line 331, in generate_content\n",
      "    response = self._client.generate_content(\n",
      "               ^^^^^^^^^^^^^^^^^^^^^^^^^^^^^^\n",
      "  File \"/Users/magewade/Desktop/autoparts-recognition/.venv/lib/python3.11/site-packages/google/ai/generativelanguage_v1beta/services/generative_service/client.py\", line 835, in generate_content\n",
      "    response = rpc(\n",
      "               ^^^^\n",
      "  File \"/Users/magewade/Desktop/autoparts-recognition/.venv/lib/python3.11/site-packages/google/api_core/gapic_v1/method.py\", line 131, in __call__\n",
      "    return wrapped_func(*args, **kwargs)\n",
      "           ^^^^^^^^^^^^^^^^^^^^^^^^^^^^^\n",
      "  File \"/Users/magewade/Desktop/autoparts-recognition/.venv/lib/python3.11/site-packages/google/api_core/retry/retry_unary.py\", line 294, in retry_wrapped_func\n",
      "    return retry_target(\n",
      "           ^^^^^^^^^^^^^\n",
      "  File \"/Users/magewade/Desktop/autoparts-recognition/.venv/lib/python3.11/site-packages/google/api_core/retry/retry_unary.py\", line 147, in retry_target\n",
      "    result = target()\n",
      "             ^^^^^^^^\n",
      "  File \"/Users/magewade/Desktop/autoparts-recognition/.venv/lib/python3.11/site-packages/google/api_core/timeout.py\", line 130, in func_with_timeout\n",
      "    return func(*args, **kwargs)\n",
      "           ^^^^^^^^^^^^^^^^^^^^^\n",
      "  File \"/Users/magewade/Desktop/autoparts-recognition/.venv/lib/python3.11/site-packages/google/api_core/grpc_helpers.py\", line 76, in error_remapped_callable\n",
      "    return callable_(*args, **kwargs)\n",
      "           ^^^^^^^^^^^^^^^^^^^^^^^^^^\n",
      "  File \"/Users/magewade/Desktop/autoparts-recognition/.venv/lib/python3.11/site-packages/grpc/_interceptor.py\", line 277, in __call__\n",
      "    response, ignored_call = self._with_call(\n",
      "                             ^^^^^^^^^^^^^^^^\n",
      "  File \"/Users/magewade/Desktop/autoparts-recognition/.venv/lib/python3.11/site-packages/grpc/_interceptor.py\", line 329, in _with_call\n",
      "    call = self._interceptor.intercept_unary_unary(\n",
      "           ^^^^^^^^^^^^^^^^^^^^^^^^^^^^^^^^^^^^^^^^\n",
      "  File \"/Users/magewade/Desktop/autoparts-recognition/.venv/lib/python3.11/site-packages/google/ai/generativelanguage_v1beta/services/generative_service/transports/grpc.py\", line 79, in intercept_unary_unary\n",
      "    response = continuation(client_call_details, request)\n",
      "               ^^^^^^^^^^^^^^^^^^^^^^^^^^^^^^^^^^^^^^^^^^\n",
      "  File \"/Users/magewade/Desktop/autoparts-recognition/.venv/lib/python3.11/site-packages/grpc/_interceptor.py\", line 315, in continuation\n",
      "    response, call = self._thunk(new_method).with_call(\n",
      "                     ^^^^^^^^^^^^^^^^^^^^^^^^^^^^^^^^^^\n",
      "  File \"/Users/magewade/Desktop/autoparts-recognition/.venv/lib/python3.11/site-packages/grpc/_channel.py\", line 1189, in with_call\n",
      "    state, call = self._blocking(\n",
      "                  ^^^^^^^^^^^^^^^\n",
      "  File \"/Users/magewade/Desktop/autoparts-recognition/.venv/lib/python3.11/site-packages/grpc/_channel.py\", line 1162, in _blocking\n",
      "    event = call.next_event()\n",
      "            ^^^^^^^^^^^^^^^^^\n",
      "  File \"src/python/grpcio/grpc/_cython/_cygrpc/channel.pyx.pxi\", line 388, in grpc._cython.cygrpc.SegregatedCall.next_event\n",
      "  File \"src/python/grpcio/grpc/_cython/_cygrpc/channel.pyx.pxi\", line 211, in grpc._cython.cygrpc._next_call_event\n",
      "  File \"src/python/grpcio/grpc/_cython/_cygrpc/channel.pyx.pxi\", line 205, in grpc._cython.cygrpc._next_call_event\n",
      "  File \"src/python/grpcio/grpc/_cython/_cygrpc/completion_queue.pyx.pxi\", line 97, in grpc._cython.cygrpc._latent_event\n",
      "  File \"src/python/grpcio/grpc/_cython/_cygrpc/completion_queue.pyx.pxi\", line 80, in grpc._cython.cygrpc._internal_latent_event\n",
      "  File \"src/python/grpcio/grpc/_cython/_cygrpc/completion_queue.pyx.pxi\", line 61, in grpc._cython.cygrpc._next\n",
      "KeyboardInterrupt\n"
     ]
    }
   ],
   "source": [
    "!python main_goofish.py --model 'gemini' \\\n",
    " --api-keys {api_keys[0]} \\\n",
    " --save-file-name 'predicted_data_goofish' \\\n",
    " --gemini-api-model 'gemini-2.5-flash' \\\n",
    " --car-brand 'all' \\\n",
    " --max-steps 3 \\\n",
    " --max-links 75"
   ]
  },
  {
   "cell_type": "code",
   "execution_count": null,
   "id": "ceb16050",
   "metadata": {},
   "outputs": [],
   "source": [
    "import pandas as pd\n",
    "\n",
    "df = pd.read_excel(\"predicted_data_goofish_part_5.xlsx\")\n",
    "split_cols = df[\"predicted_number\"].str.split(\"|\", expand=True)\n",
    "split_cols = split_cols.apply(lambda x: x.str.strip() if x.dtype == \"object\" else x)\n",
    "split_cols.columns = [\n",
    "    \"model_name\",\n",
    "    \"model_number\",\n",
    "    \"presumptive_model_number\",\n",
    "    \"few_details\",\n",
    "]\n",
    "\n",
    "# Удаляем исходную колонку\n",
    "df = df.drop(columns=[\"predicted_number\"])\n",
    "\n",
    "# Добавляем новые колонки в начало\n",
    "df = pd.concat([split_cols, df], axis=1)\n",
    "\n",
    "df.to_excel(\"predicted_data_goofish_split.xlsx\", index=False)"
   ]
  },
  {
   "cell_type": "code",
   "execution_count": null,
   "id": "928b1bca",
   "metadata": {},
   "outputs": [],
   "source": []
  }
 ],
 "metadata": {
  "kernelspec": {
   "display_name": ".venv",
   "language": "python",
   "name": "python3"
  },
  "language_info": {
   "codemirror_mode": {
    "name": "ipython",
    "version": 3
   },
   "file_extension": ".py",
   "mimetype": "text/x-python",
   "name": "python",
   "nbconvert_exporter": "python",
   "pygments_lexer": "ipython3",
   "version": "3.11.11"
  }
 },
 "nbformat": 4,
 "nbformat_minor": 5
}
