{
 "cells": [
  {
   "cell_type": "code",
   "execution_count": 1,
   "id": "03e10822",
   "metadata": {},
   "outputs": [],
   "source": [
    "import logging\n",
    "from dotenv import load_dotenv\n",
    "import os\n",
    "\n",
    "logging.basicConfig(level=logging.INFO, format=\"%(asctime)s %(levelname)s %(message)s\")"
   ]
  },
  {
   "cell_type": "code",
   "execution_count": 3,
   "id": "676670ac",
   "metadata": {},
   "outputs": [
    {
     "data": {
      "text/plain": [
       "True"
      ]
     },
     "execution_count": 3,
     "metadata": {},
     "output_type": "execute_result"
    }
   ],
   "source": [
    "load_dotenv()"
   ]
  },
  {
   "cell_type": "code",
   "execution_count": 4,
   "id": "e8d685e5",
   "metadata": {},
   "outputs": [],
   "source": [
    "GEMINI_API_KEYS = os.getenv(\"GEMINI_API_KEYS\")\n",
    "if GEMINI_API_KEYS:\n",
    "    api_keys = [k.strip() for k in GEMINI_API_KEYS.split(\",\")]\n",
    "else:\n",
    "    api_keys = []"
   ]
  },
  {
   "cell_type": "code",
   "execution_count": 5,
   "id": "8f05b94d",
   "metadata": {},
   "outputs": [
    {
     "name": "stdout",
     "output_type": "stream",
     "text": [
      "Runtime of generate_similar_user_agents: 0.0000 seconds\n",
      "Runtime of generate_headers_list: 0.0000 seconds\n",
      "Runtime of __init__: 0.0001 seconds\n",
      "2025-08-25 16:23:42,633 - INFO - Killing all chrome/chromium processes before starting new driver...\n",
      "2025-08-25 16:23:42,694 - INFO - Creating new Chrome driver...\n",
      "Traceback (most recent call last):\n",
      "  File \"/Users/magewade/Desktop/autoparts-recognition/main_goofish.py\", line 254, in <module>\n",
      "    driver = processor.create_persistent_driver()\n",
      "             ^^^^^^^^^^^^^^^^^^^^^^^^^^^^^^^^^^^^\n",
      "  File \"/Users/magewade/Desktop/autoparts-recognition/config.py\", line 42, in wrapper\n",
      "    result = func(self, *args, **kwargs)\n",
      "             ^^^^^^^^^^^^^^^^^^^^^^^^^^^\n",
      "  File \"/Users/magewade/Desktop/autoparts-recognition/dataprocessor_goofish.py\", line 423, in create_persistent_driver\n",
      "    driver = create_chrome_driver(user_agent=user_agent, debug_port=debug_port)\n",
      "             ^^^^^^^^^^^^^^^^^^^^^^^^^^^^^^^^^^^^^^^^^^^^^^^^^^^^^^^^^^^^^^^^^^\n",
      "  File \"/Users/magewade/Desktop/autoparts-recognition/dataprocessor_goofish.py\", line 58, in create_chrome_driver\n",
      "    os.makedirs(base_dir, exist_ok=True)\n",
      "  File \"<frozen os>\", line 215, in makedirs\n",
      "  File \"<frozen os>\", line 215, in makedirs\n",
      "  File \"<frozen os>\", line 215, in makedirs\n",
      "  File \"<frozen os>\", line 225, in makedirs\n",
      "OSError: [Errno 30] Read-only file system: '/content'\n"
     ]
    }
   ],
   "source": [
    "!python main_goofish.py --model 'gemini' \\\n",
    " --api-keys {api_keys[0]} \\\n",
    " --save-file-name 'predicted_data_goofish' \\\n",
    " --gemini-api-model 'gemini-2.5-flash' \\\n",
    " --car-brand 'all' \\\n",
    " --max-steps 3 \\\n",
    " --max-links 10"
   ]
  },
  {
   "cell_type": "code",
   "execution_count": null,
   "id": "ceb16050",
   "metadata": {},
   "outputs": [],
   "source": [
    "import pandas as pd\n",
    "\n",
    "df = pd.read_excel(\"predicted_data_goofish_part_5.xlsx\")\n",
    "split_cols = df[\"predicted_number\"].str.split(\"|\", expand=True)\n",
    "split_cols = split_cols.apply(lambda x: x.str.strip() if x.dtype == \"object\" else x)\n",
    "split_cols.columns = [\n",
    "    \"model_name\",\n",
    "    \"model_number\",\n",
    "    \"presumptive_model_number\",\n",
    "    \"few_details\",\n",
    "]\n",
    "\n",
    "# Удаляем исходную колонку\n",
    "df = df.drop(columns=[\"predicted_number\"])\n",
    "\n",
    "# Добавляем новые колонки в начало\n",
    "df = pd.concat([split_cols, df], axis=1)\n",
    "\n",
    "df.to_excel(\"predicted_data_goofish_split.xlsx\", index=False)"
   ]
  },
  {
   "cell_type": "code",
   "execution_count": null,
   "id": "928b1bca",
   "metadata": {},
   "outputs": [],
   "source": []
  }
 ],
 "metadata": {
  "kernelspec": {
   "display_name": ".venv",
   "language": "python",
   "name": "python3"
  },
  "language_info": {
   "codemirror_mode": {
    "name": "ipython",
    "version": 3
   },
   "file_extension": ".py",
   "mimetype": "text/x-python",
   "name": "python",
   "nbconvert_exporter": "python",
   "pygments_lexer": "ipython3",
   "version": "3.11.11"
  }
 },
 "nbformat": 4,
 "nbformat_minor": 5
}
