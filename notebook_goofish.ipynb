{
 "cells": [
  {
   "cell_type": "code",
   "execution_count": 10,
   "id": "03e10822",
   "metadata": {},
   "outputs": [],
   "source": [
    "import logging\n",
    "from dotenv import load_dotenv\n",
    "import os\n",
    "\n",
    "logging.basicConfig(level=logging.INFO, format=\"%(asctime)s %(levelname)s %(message)s\")"
   ]
  },
  {
   "cell_type": "code",
   "execution_count": 12,
   "id": "676670ac",
   "metadata": {},
   "outputs": [
    {
     "data": {
      "text/plain": [
       "True"
      ]
     },
     "execution_count": 12,
     "metadata": {},
     "output_type": "execute_result"
    }
   ],
   "source": [
    "load_dotenv()"
   ]
  },
  {
   "cell_type": "code",
   "execution_count": 16,
   "id": "e8d685e5",
   "metadata": {},
   "outputs": [],
   "source": [
    "GEMINI_API_KEYS = os.getenv(\"GEMINI_API_KEYS\")\n",
    "if GEMINI_API_KEYS:\n",
    "    api_keys = [k.strip() for k in GEMINI_API_KEYS.split(\",\")]\n",
    "else:\n",
    "    api_keys = []"
   ]
  },
  {
   "cell_type": "code",
   "execution_count": 19,
   "id": "8f05b94d",
   "metadata": {},
   "outputs": [
    {
     "name": "stdout",
     "output_type": "stream",
     "text": [
      "Runtime of generate_similar_user_agents: 0.0000 seconds\n",
      "Runtime of generate_headers_list: 0.0000 seconds\n",
      "Runtime of __init__: 0.0001 seconds\n",
      "/Users/magewade/Desktop/autoparts-recognition-v3-main/.venv/lib/python3.11/site-packages/keras/src/applications/mobilenet_v3.py:452: UserWarning: `input_shape` is undefined or non-square, or `rows` is not 224. Weights for input shape (224, 224) will be loaded as the default.\n",
      "  return MobileNetV3(\n",
      "/Users/magewade/Desktop/autoparts-recognition-v3-main/.venv/lib/python3.11/site-packages/keras/src/saving/saving_lib.py:797: UserWarning: Skipping variable loading for optimizer 'adamw', because it has 2 variables whereas the saved optimizer has 14 variables. \n",
      "  saveable.load_own_variables(weights_store.get(inner_path))\n",
      "Runtime of generate_similar_user_agents: 0.0000 seconds\n",
      "Runtime of generate_headers_list: 0.0000 seconds\n",
      "Runtime of __init__: 0.0001 seconds\n",
      "Runtime of __init__: 0.3234 seconds\n",
      "2025-08-13 15:31:23,919 - INFO - Starting encoding process with model: gemini\n",
      "2025-08-13 15:31:23,919 - INFO - Starting link collection from https://www.goofish.com/search?q=%E5%8F%91%E5%8A%A8%E6%9C%BA%E7%94%B5%E8%84%91&spm=a21ybx.search.searchInput.0\n",
      "^C\n"
     ]
    }
   ],
   "source": [
    "!python main_goofish.py --model 'gemini' \\\n",
    " --api-keys {api_keys[0]} \\\n",
    " --save-file-name 'predicted_data_goofish' \\\n",
    " --gemini-api-model 'gemini-2.5-flash' \\\n",
    " --car-brand 'all' \\\n",
    " --max-steps 3 \\\n",
    " --max-links 75"
   ]
  },
  {
   "cell_type": "code",
   "execution_count": null,
   "id": "ceb16050",
   "metadata": {},
   "outputs": [],
   "source": [
    "import pandas as pd\n",
    "\n",
    "df = pd.read_excel(\"predicted_data_goofish_part_5.xlsx\")\n",
    "split_cols = df[\"predicted_number\"].str.split(\"|\", expand=True)\n",
    "split_cols = split_cols.apply(lambda x: x.str.strip() if x.dtype == \"object\" else x)\n",
    "split_cols.columns = [\n",
    "    \"model_name\",\n",
    "    \"model_number\",\n",
    "    \"presumptive_model_number\",\n",
    "    \"few_details\",\n",
    "]\n",
    "\n",
    "# Удаляем исходную колонку\n",
    "df = df.drop(columns=[\"predicted_number\"])\n",
    "\n",
    "# Добавляем новые колонки в начало\n",
    "df = pd.concat([split_cols, df], axis=1)\n",
    "\n",
    "df.to_excel(\"predicted_data_goofish_split.xlsx\", index=False)"
   ]
  },
  {
   "cell_type": "code",
   "execution_count": null,
   "id": "928b1bca",
   "metadata": {},
   "outputs": [],
   "source": []
  }
 ],
 "metadata": {
  "kernelspec": {
   "display_name": ".venv",
   "language": "python",
   "name": "python3"
  },
  "language_info": {
   "codemirror_mode": {
    "name": "ipython",
    "version": 3
   },
   "file_extension": ".py",
   "mimetype": "text/x-python",
   "name": "python",
   "nbconvert_exporter": "python",
   "pygments_lexer": "ipython3",
   "version": "3.11.11"
  }
 },
 "nbformat": 4,
 "nbformat_minor": 5
}
